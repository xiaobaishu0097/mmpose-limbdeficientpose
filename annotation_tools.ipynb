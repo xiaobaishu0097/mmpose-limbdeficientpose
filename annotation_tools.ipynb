{
 "cells": [
  {
   "cell_type": "code",
   "execution_count": 2,
   "id": "b6e141b0",
   "metadata": {},
   "outputs": [
    {
     "name": "stdout",
     "output_type": "stream",
     "text": [
      "skip image_id: 104\n",
      "skip image_id: 104\n"
     ]
    }
   ],
   "source": [
    "import json\n",
    "import copy\n",
    "\n",
    "base_annotation = \"/home/hemingdu/Code/mmpose-limbdeficientpose/work_dirs/coco_dataset_0854e3e164d30a684bf471a9b6926bdfec13fb362393e16d59d976c9586533a9/annotations/modified_annotations.json\"\n",
    "merge_annotation = \"/home/hemingdu/Code/mmpose-limbdeficientpose/work_dirs/coco_dataset_0854e3e164d30a684bf471a9b6926bdfec13fb362393e16d59d976c9586533a9_0/annotations/modified_annotations.json\"\n",
    "\n",
    "target_annotation = \"/home/hemingdu/Code/mmpose-limbdeficientpose/work_dirs/coco_dataset_0854e3e164d30a684bf471a9b6926bdfec13fb362393e16d59d976c9586533a9/annotations/merged_annotations.json\"\n",
    "\n",
    "with open(base_annotation, \"r\") as f:\n",
    "    base_annotation = json.load(f)\n",
    "\n",
    "with open(merge_annotation, \"r\") as f:\n",
    "    merge_annotation = json.load(f)\n",
    "\n",
    "annotation_id = max([x[\"id\"] for x in base_annotation[\"annotations\"]])\n",
    "skip_image_id = []\n",
    "for item in merge_annotation[\"annotations\"]:\n",
    "    # get the corresponding image info from merge_annotation['images']\n",
    "    for x in merge_annotation[\"images\"]:\n",
    "        if x[\"id\"] == item[\"image_id\"]:\n",
    "            image_info = copy.deepcopy(x)\n",
    "\n",
    "    # image_id = item[\"image_id\"] + 1\n",
    "\n",
    "    # if merge_annotation has the same image_id as base_annotation, skip\n",
    "    if (\n",
    "        item[\"image_id\"] in [x[\"image_id\"] for x in base_annotation[\"annotations\"]]\n",
    "        and item[\"image_id\"] not in skip_image_id\n",
    "    ):\n",
    "        print(\"skip image_id:\", item[\"image_id\"])\n",
    "        continue\n",
    "    else:\n",
    "        skip_image_id.append(item[\"image_id\"])\n",
    "\n",
    "    # image_info[\"id\"] = image_id\n",
    "    annotation_id += 1\n",
    "    item[\"id\"] = copy.deepcopy(annotation_id)\n",
    "\n",
    "    # insert the item into the base_annotation\n",
    "    base_annotation[\"annotations\"].append(item)\n",
    "    # insert the image into the base_annotation\n",
    "    if image_info is not None:\n",
    "        base_annotation[\"images\"].append(image_info)\n",
    "\n",
    "with open(target_annotation, \"w\") as f:\n",
    "    json.dump(base_annotation, f, indent=4)"
   ]
  },
  {
   "cell_type": "code",
   "execution_count": null,
   "id": "4411dfe8",
   "metadata": {},
   "outputs": [],
   "source": []
  }
 ],
 "metadata": {
  "kernelspec": {
   "display_name": "mmpose",
   "language": "python",
   "name": "python3"
  },
  "language_info": {
   "codemirror_mode": {
    "name": "ipython",
    "version": 3
   },
   "file_extension": ".py",
   "mimetype": "text/x-python",
   "name": "python",
   "nbconvert_exporter": "python",
   "pygments_lexer": "ipython3",
   "version": "3.11.11"
  }
 },
 "nbformat": 4,
 "nbformat_minor": 5
}
